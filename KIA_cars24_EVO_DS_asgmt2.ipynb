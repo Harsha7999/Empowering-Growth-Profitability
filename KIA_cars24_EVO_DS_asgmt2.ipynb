{
  "nbformat": 4,
  "nbformat_minor": 0,
  "metadata": {
    "colab": {
      "provenance": []
    },
    "kernelspec": {
      "name": "python3",
      "display_name": "Python 3"
    },
    "language_info": {
      "name": "python"
    }
  },
  "cells": [
    {
      "cell_type": "code",
      "execution_count": 13,
      "metadata": {
        "colab": {
          "base_uri": "https://localhost:8080/"
        },
        "id": "dr3bO-Zo2QOb",
        "outputId": "7b81e439-24d7-4679-df18-fee4dc7eec37"
      },
      "outputs": [
        {
          "output_type": "stream",
          "name": "stdout",
          "text": [
            "Successfully fetched the page content.\n",
            "Data saved to 'KIAcar_data.csv'\n"
          ]
        }
      ],
      "source": [
        "# Import libraries\n",
        "import requests\n",
        "from bs4 import BeautifulSoup\n",
        "import pandas as pd\n",
        "\n",
        "# Define URL with filters (modify as needed)\n",
        "url = \"https://www.cars24.com/buy-used-car?f=make%3A%3D%3Akia&sort=bestmatch&serveWarrantyCount=true&listingSource=TabFilter&storeCityId=2\"\n",
        "# Send request and get response\n",
        "response = requests.get(url)\n",
        "\n",
        "# Check for successful response (status code 200)\n",
        "if response.status_code == 200:\n",
        "  print(\"Successfully fetched the page content.\")\n",
        "else:\n",
        "  print(f\"Error: Failed to get the page. Status code: {response.status_code}\")\n",
        "  exit()\n",
        "\n",
        "# Parse HTML content\n",
        "soup = BeautifulSoup(response.content, 'html.parser')\n",
        "\n",
        "# Lists to store scraped data\n",
        "name = []\n",
        "kilometers_driven = []\n",
        "year_of_manufacture = []  # Not included in this example scraping\n",
        "fuel_type = []\n",
        "transmission = []\n",
        "price = []\n",
        "emi = []\n",
        "# Find all car listings\n",
        "cars = soup.find_all('div', class_='_2YB7p')  # Adjust class name if it changes on the website\n",
        "\n",
        "# Extract data for each car\n",
        "for car in cars:\n",
        "  names = car.find('h3').get_text().strip()  # Get car name details\n",
        "  km = car.find('ul', {'class': '_3J2G-'}).find_all('li')[0].get_text().strip()  # Get kilometers details\n",
        "  fuel = car.find('ul', {'class': '_3J2G-'}).find_all('li')[2].get_text().strip()  # Get fuel type details\n",
        "  trans = car.find('ul', {'class': '_3J2G-'}).find_all('li')[-1].get_text().strip()  # Get transmission details\n",
        "  pr = car.find('strong', {'class': '_3RL-I'}).get_text().strip()  # Get price details\n",
        "  em = car.find('span' , {'class' : '_2O0yU'}).get_text().strip() # Get EMI/month details\n",
        "  # Append data to lists\n",
        "  name.append(names)\n",
        "  kilometers_driven.append(km)\n",
        "  fuel_type.append(fuel)\n",
        "  transmission.append(trans)\n",
        "  price.append(pr)\n",
        "  emi.append(em)\n",
        "# Create DataFrame from lists\n",
        "data = {'name': name, 'kilometers_driven': kilometers_driven, 'fuel_type': fuel_type, 'transmission': transmission, 'price': price, 'emi' : emi}\n",
        "df = pd.DataFrame(data)\n",
        "\n",
        "# Save DataFrame to CSV file\n",
        "df.to_csv('KIAcar_data.csv', index=False)\n",
        "\n",
        "print(\"Data saved to 'KIAcar_data.csv'\")\n"
      ]
    }
  ]
}