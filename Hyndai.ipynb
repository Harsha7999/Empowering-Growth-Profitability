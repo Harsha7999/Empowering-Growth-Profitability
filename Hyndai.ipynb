{
 "cells": [
  {
   "cell_type": "code",
   "execution_count": 1,
   "id": "9d6d11b2-3528-43c3-8dd5-2f06cf69584f",
   "metadata": {},
   "outputs": [],
   "source": [
    "import requests\n",
    "from bs4 import BeautifulSoup\n",
    "import pandas as pd"
   ]
  },
  {
   "cell_type": "code",
   "execution_count": 2,
   "id": "b0f85e3f-12e1-4ea2-855e-be5382b7f563",
   "metadata": {},
   "outputs": [],
   "source": [
    "url = \"https://www.cars24.com/buy-used-car?f=make%3A%3D%3Ahyundai&sort=bestmatch&serveWarrantyCount=true&listingSource=Homepage_Filters&storeCityId=2378\""
   ]
  },
  {
   "cell_type": "code",
   "execution_count": 3,
   "id": "3dcb0339-672e-4057-bef9-c206ec0e8c73",
   "metadata": {},
   "outputs": [],
   "source": [
    "response = requests.get(url)\n",
    "soup = BeautifulSoup(response.content, 'html.parser')"
   ]
  },
  {
   "cell_type": "code",
   "execution_count": 4,
   "id": "1676973a-5a31-4069-a5c7-162d8249bd81",
   "metadata": {},
   "outputs": [
    {
     "data": {
      "text/plain": [
       "200"
      ]
     },
     "execution_count": 4,
     "metadata": {},
     "output_type": "execute_result"
    }
   ],
   "source": [
    "response.status_code"
   ]
  },
  {
   "cell_type": "code",
   "execution_count": 38,
   "id": "e090ed73-19fa-4342-9418-c9a083f9d85a",
   "metadata": {},
   "outputs": [],
   "source": [
    "name = []\n",
    "kilometers_driven = []\n",
    "year_of_manufacture = []\n",
    "fuel_type = []\n",
    "transmission = []\n",
    "price = []"
   ]
  },
  {
   "cell_type": "code",
   "execution_count": 51,
   "id": "7f39beb2-dcfe-4188-88e8-ca813771fb69",
   "metadata": {},
   "outputs": [],
   "source": [
    "cars = soup.find_all('div', class_='_2YB7p')\n",
    "for car in cars:\n",
    "    names = car.find('h3').get_text()\n",
    "    km = car.find('ul', {'class': '_3J2G-'}).find_all('li')[0].get_text()\n",
    "    fuel = car.find('ul', {'class': '_3J2G-'}).find_all('li')[2].get_text()\n",
    "    trans = car.find('ul', {'class': '_3J2G-'}).find_all('li')[-1].get_text()\n",
    "    pr = car.find('strong', {'class': '_3RL-I'}).get_text()\n",
    "\n",
    "    \n",
    "    name.append(names)\n",
    "    kilometers_driven.append(km)\n",
    "    fuel_type.append(fuel)\n",
    "    transmission.append(trans)\n",
    "    price.append(pr)"
   ]
  },
  {
   "cell_type": "code",
   "execution_count": 46,
   "id": "5cff9cf7-c43f-405d-bbc5-6d1b731c4c65",
   "metadata": {},
   "outputs": [],
   "source": [
    "df = pd.DataFrame(data)"
   ]
  },
  {
   "cell_type": "code",
   "execution_count": 54,
   "id": "b37ef86d-9bc8-4e84-8e75-cf2076189f58",
   "metadata": {},
   "outputs": [],
   "source": [
    "df.to_csv('car_data.csv', index=False)"
   ]
  },
  {
   "cell_type": "code",
   "execution_count": 48,
   "id": "89556108-2646-4021-920a-65a5bd271cbd",
   "metadata": {},
   "outputs": [
    {
     "name": "stdout",
     "output_type": "stream",
     "text": [
      "Data saved to 'car_data.csv'\n"
     ]
    }
   ],
   "source": [
    "print(\"Data saved to 'car_data.csv'\")"
   ]
  },
  {
   "cell_type": "code",
   "execution_count": 52,
   "id": "0aebd571-7504-4c10-a9b5-d9e3ea7cea35",
   "metadata": {},
   "outputs": [
    {
     "name": "stdout",
     "output_type": "stream",
     "text": [
      "['₹3.86 Lakh', '₹4.50 Lakh', '₹5.43 Lakh', '₹4.44 Lakh', '₹5.68 Lakh', '₹6.88 Lakh', '₹8.54 Lakh', '₹4.16 Lakh', '₹4.86 Lakh', '₹5.26 Lakh', '₹3.72 Lakh', '₹5.64 Lakh', '₹9.86 Lakh', '₹4.88 Lakh', '₹5.98 Lakh', '₹2.24 Lakh', '₹8.11 Lakh', '₹8.44 Lakh', '₹8.87 Lakh', '₹4.44 Lakh', '₹3.86 Lakh', '₹4.50 Lakh', '₹5.43 Lakh', '₹4.44 Lakh', '₹5.68 Lakh', '₹6.88 Lakh', '₹8.54 Lakh', '₹4.16 Lakh', '₹4.86 Lakh', '₹5.26 Lakh', '₹3.72 Lakh', '₹5.64 Lakh', '₹9.86 Lakh', '₹4.88 Lakh', '₹5.98 Lakh', '₹2.24 Lakh', '₹8.11 Lakh', '₹8.44 Lakh', '₹8.87 Lakh', '₹4.44 Lakh']\n"
     ]
    }
   ],
   "source": [
    "print(price)"
   ]
  },
  {
   "cell_type": "code",
   "execution_count": null,
   "id": "43716808-280a-454b-a5dd-f3a0e5852825",
   "metadata": {},
   "outputs": [],
   "source": []
  },
  {
   "cell_type": "code",
   "execution_count": null,
   "id": "878a6688-206b-469f-bf4e-06990906402e",
   "metadata": {},
   "outputs": [],
   "source": []
  }
 ],
 "metadata": {
  "kernelspec": {
   "display_name": "Python 3 (ipykernel)",
   "language": "python",
   "name": "python3"
  },
  "language_info": {
   "codemirror_mode": {
    "name": "ipython",
    "version": 3
   },
   "file_extension": ".py",
   "mimetype": "text/x-python",
   "name": "python",
   "nbconvert_exporter": "python",
   "pygments_lexer": "ipython3",
   "version": "3.11.5"
  }
 },
 "nbformat": 4,
 "nbformat_minor": 5
}
